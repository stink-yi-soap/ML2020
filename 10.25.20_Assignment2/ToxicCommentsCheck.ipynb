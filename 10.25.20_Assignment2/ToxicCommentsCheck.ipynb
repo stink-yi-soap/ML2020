{
 "cells": [
  {
   "cell_type": "code",
   "execution_count": 5,
   "metadata": {},
   "outputs": [],
   "source": [
    "# ML Assignment1 First Iteration: \n",
    "# https://github.com/visualizedata/ml/blob/master/final_assignment_1/toxiccomments_first_full_iteration.ipynb\n",
    "# Code from Aaron Hill\n",
    "\n",
    "import numpy as np\n",
    "import pandas as pd\n",
    "import matplotlib.pyplot as plt\n",
    "from my_measures import BinaryClassificationPerformance\n",
    "from sklearn.feature_extraction.text import HashingVectorizer\n",
    "from sklearn.feature_extraction.text import TfidfTransformer\n",
    "from scipy.sparse import csr_matrix, hstack\n",
    "from sklearn.preprocessing import StandardScaler\n",
    "from sklearn.model_selection import train_test_split\n",
    "%matplotlib inline"
   ]
  },
  {
   "cell_type": "code",
   "execution_count": 6,
   "metadata": {},
   "outputs": [
    {
     "name": "stdout",
     "output_type": "stream",
     "text": [
      "Help on class BinaryClassificationPerformance in module my_measures:\n",
      "\n",
      "class BinaryClassificationPerformance(builtins.object)\n",
      " |  BinaryClassificationPerformance(predictions, labels, desc, probabilities=None)\n",
      " |  \n",
      " |  Performance measures to evaluate the fit of a binary classification model, v1.02\n",
      " |  \n",
      " |  Methods defined here:\n",
      " |  \n",
      " |  __init__(self, predictions, labels, desc, probabilities=None)\n",
      " |      Initialize attributes: predictions-vector of predicted values for Y, labels-vector of labels for Y\n",
      " |  \n",
      " |  compute_measures(self)\n",
      " |      Compute performance measures defined by Flach p. 57\n",
      " |  \n",
      " |  img_indices(self)\n",
      " |      Get the indices of true and false positives to be able to locate the corresponding images in a list of image names\n",
      " |  \n",
      " |  ----------------------------------------------------------------------\n",
      " |  Data descriptors defined here:\n",
      " |  \n",
      " |  __dict__\n",
      " |      dictionary for instance variables (if defined)\n",
      " |  \n",
      " |  __weakref__\n",
      " |      list of weak references to the object (if defined)\n",
      "\n"
     ]
    }
   ],
   "source": [
    "help(BinaryClassificationPerformance)"
   ]
  },
  {
   "cell_type": "code",
   "execution_count": 7,
   "metadata": {},
   "outputs": [],
   "source": [
    "# function that takes raw data and completes all preprocessing required before model fits\n",
    "def process_raw_data(fn, my_random_seed, test=False):\n",
    "    # read and summarize data\n",
    "    toxic_data = pd.read_csv(fn)\n",
    "    if (not test):\n",
    "        # add an indicator for any toxic, severe toxic, obscene, threat, insult, or indentity hate\n",
    "        toxic_data['any_toxic'] = (toxic_data['toxic'] + toxic_data['severe_toxic'] + toxic_data['obscene'] + toxic_data['threat'] + toxic_data['insult'] + toxic_data['identity_hate'] > 0)\n",
    "    print(\"toxic_data is:\", type(toxic_data))\n",
    "    print(\"toxic_data has\", toxic_data.shape[0], \"rows and\", toxic_data.shape[1], \"columns\", \"\\n\")\n",
    "    print(\"the data types for each of the columns in toxic_data:\")\n",
    "    print(toxic_data.dtypes, \"\\n\")\n",
    "    print(\"the first 10 rows in toxic_data:\")\n",
    "    print(toxic_data.head(5))\n",
    "    if (not test):\n",
    "        print(\"The rate of 'toxic' Wikipedia comments in the dataset: \")\n",
    "        print(toxic_data['any_toxic'].mean())\n",
    "\n",
    "    # vectorize Bag of Words from review text; as sparse matrix\n",
    "    if (not test): # fit_transform()\n",
    "        hv = HashingVectorizer(n_features=2 ** 20, alternate_sign=False)\n",
    "        X_hv = hv.fit_transform(toxic_data.comment_text)\n",
    "        fitted_transformations.append(hv)\n",
    "        print(\"Shape of HashingVectorizer X:\")\n",
    "        print(X_hv.shape)\n",
    "    else: # transform() \n",
    "        X_hv = fitted_transformations[0].transform(toxic_data.comment_text)\n",
    "        print(\"Shape of HashingVectorizer X:\")\n",
    "        print(X_hv.shape)\n",
    "    \n",
    "    # http://scikit-learn.org/stable/modules/generated/sklearn.feature_extraction.text.TfidfTransformer.html\n",
    "    if (not test):\n",
    "        transformer = TfidfTransformer()\n",
    "        X_tfidf = transformer.fit_transform(X_hv)\n",
    "        fitted_transformations.append(transformer)\n",
    "    else:\n",
    "        X_tfidf = fitted_transformations[1].transform(X_hv)\n",
    "    \n",
    "    # create additional quantitative features\n",
    "    # features from Amazon.csv to add to feature set\n",
    "    toxic_data['word_count'] = toxic_data['comment_text'].str.split(' ').str.len()\n",
    "    toxic_data['punc_count'] = toxic_data['comment_text'].str.count(\"\\.\")\n",
    "\n",
    "    X_quant_features = toxic_data[[\"word_count\", \"punc_count\"]]\n",
    "    print(\"Look at a few rows of the new quantitative features: \")\n",
    "    print(X_quant_features.head(10))\n",
    "    \n",
    "    # Combine all quantitative features into a single sparse matrix\n",
    "    X_quant_features_csr = csr_matrix(X_quant_features)\n",
    "    X_combined = hstack([X_tfidf, X_quant_features_csr])\n",
    "    X_matrix = csr_matrix(X_combined) # convert to sparse matrix\n",
    "    print(\"Size of combined bag of words and new quantitative variables matrix:\")\n",
    "    print(X_matrix.shape)\n",
    "    \n",
    "    # Create `X`, scaled matrix of features\n",
    "    # feature scaling\n",
    "    if (not test):\n",
    "        sc = StandardScaler(with_mean=False)\n",
    "        X = sc.fit_transform(X_matrix)\n",
    "        fitted_transformations.append(sc)\n",
    "        print(X.shape)\n",
    "        y = toxic_data['any_toxic']\n",
    "    else:\n",
    "        X = fitted_transformations[2].transform(X_matrix)\n",
    "        print(X.shape)\n",
    "    \n",
    "    # Create Training and Test Sets\n",
    "    # enter an integer for the random_state parameter; any integer will work\n",
    "    if (test):\n",
    "        X_submission_test = X\n",
    "        print(\"Shape of X_test for submission:\")\n",
    "        print(X_submission_test.shape)\n",
    "        print('SUCCESS!')\n",
    "        return(toxic_data, X_submission_test)\n",
    "    else: \n",
    "        X_train, X_test, y_train, y_test, X_raw_train, X_raw_test = train_test_split(X, y, toxic_data, test_size=0.2, random_state=my_random_seed)\n",
    "        print(\"Shape of X_train and X_test:\")\n",
    "        print(X_train.shape)\n",
    "        print(X_test.shape)\n",
    "        print(\"Shape of y_train and y_test:\")\n",
    "        print(y_train.shape)\n",
    "        print(y_test.shape)\n",
    "        print(\"Shape of X_raw_train and X_raw_test:\")\n",
    "        print(X_raw_train.shape)\n",
    "        print(X_raw_test.shape)\n",
    "        print('SUCCESS!')\n",
    "        return(X_train, X_test, y_train, y_test, X_raw_train, X_raw_test)"
   ]
  },
  {
   "cell_type": "code",
   "execution_count": 8,
   "metadata": {},
   "outputs": [
    {
     "name": "stdout",
     "output_type": "stream",
     "text": [
      "toxic_data is: <class 'pandas.core.frame.DataFrame'>\n",
      "toxic_data has 159571 rows and 9 columns \n",
      "\n",
      "the data types for each of the columns in toxic_data:\n",
      "id               object\n",
      "comment_text     object\n",
      "toxic             int64\n",
      "severe_toxic      int64\n",
      "obscene           int64\n",
      "threat            int64\n",
      "insult            int64\n",
      "identity_hate     int64\n",
      "any_toxic          bool\n",
      "dtype: object \n",
      "\n",
      "the first 10 rows in toxic_data:\n",
      "                 id                                       comment_text  toxic  \\\n",
      "0  0000997932d777bf  Explanation\\nWhy the edits made under my usern...      0   \n",
      "1  000103f0d9cfb60f  D'aww! He matches this background colour I'm s...      0   \n",
      "2  000113f07ec002fd  Hey man, I'm really not trying to edit war. It...      0   \n",
      "3  0001b41b1c6bb37e  \"\\nMore\\nI can't make any real suggestions on ...      0   \n",
      "4  0001d958c54c6e35  You, sir, are my hero. Any chance you remember...      0   \n",
      "\n",
      "   severe_toxic  obscene  threat  insult  identity_hate  any_toxic  \n",
      "0             0        0       0       0              0      False  \n",
      "1             0        0       0       0              0      False  \n",
      "2             0        0       0       0              0      False  \n",
      "3             0        0       0       0              0      False  \n",
      "4             0        0       0       0              0      False  \n",
      "The rate of 'toxic' Wikipedia comments in the dataset: \n",
      "0.10167887648758234\n",
      "Shape of HashingVectorizer X:\n",
      "(159571, 1048576)\n",
      "Look at a few rows of the new quantitative features: \n",
      "   word_count  punc_count\n",
      "0          42           5\n",
      "1          18           2\n",
      "2          42           3\n",
      "3         112           3\n",
      "4          13           1\n",
      "5          12           1\n",
      "6           8           0\n",
      "7          21           2\n",
      "8          83           7\n",
      "9          12           0\n",
      "Size of combined bag of words and new quantitative variables matrix:\n",
      "(159571, 1048578)\n",
      "(159571, 1048578)\n",
      "Shape of X_train and X_test:\n",
      "(127656, 1048578)\n",
      "(31915, 1048578)\n",
      "Shape of y_train and y_test:\n",
      "(127656,)\n",
      "(31915,)\n",
      "Shape of X_raw_train and X_raw_test:\n",
      "(127656, 11)\n",
      "(31915, 11)\n",
      "SUCCESS!\n",
      "Number of fits stored in `fitted_transformations` list: \n",
      "3\n"
     ]
    }
   ],
   "source": [
    "# create an empty list to store any use of fit_transform() to transform() later\n",
    "# it is a global list to store model and feature extraction fits\n",
    "fitted_transformations = []\n",
    "\n",
    "# CHANGE FILE PATH and my_random_seed number (any integer other than 74 will do): \n",
    "X_train, X_test, y_train, y_test, X_raw_train, X_raw_test = process_raw_data(fn='/Users/yichanwang/Dropbox/2020Fall_Parsons/MachineLearning/Assignment1/toxiccomments_train.csv', my_random_seed=11)\n",
    "\n",
    "print(\"Number of fits stored in `fitted_transformations` list: \")\n",
    "print(len(fitted_transformations))"
   ]
  },
  {
   "cell_type": "code",
   "execution_count": 27,
   "metadata": {},
   "outputs": [
    {
     "name": "stdout",
     "output_type": "stream",
     "text": [
      "{'Pos': 12950, 'Neg': 114706, 'TP': 6764, 'TN': 57620, 'FP': 57086, 'FN': 6186, 'Accuracy': 0.5043554552860814, 'Precision': 0.10593578700078309, 'Recall': 0.5223166023166023, 'desc': 'ols_train'}\n"
     ]
    }
   ],
   "source": [
    "# from sklearn import linear_model\n",
    "# ols = linear_model.SGDClassifier(loss=\"squared_loss\")\n",
    "# ols.fit(X_train, y_train)\n",
    "\n",
    "# ols_performance_train = BinaryClassificationPerformance(ols.predict(X_train), y_train, 'ols_train')\n",
    "# ols_performance_train.compute_measures()\n",
    "# print(ols_performance_train.performance_measures)"
   ]
  },
  {
   "cell_type": "code",
   "execution_count": 28,
   "metadata": {},
   "outputs": [
    {
     "name": "stdout",
     "output_type": "stream",
     "text": [
      "{'Pos': 12950, 'Neg': 114706, 'TP': 12858, 'TN': 114626, 'FP': 80, 'FN': 92, 'Accuracy': 0.998652628940277, 'Precision': 0.9938166640902767, 'Recall': 0.9928957528957529, 'desc': 'svm_train'}\n"
     ]
    }
   ],
   "source": [
    "# from sklearn import linear_model\n",
    "# svm = linear_model.SGDClassifier()\n",
    "# svm.fit(X_train, y_train)\n",
    "\n",
    "# svm_performance_train = BinaryClassificationPerformance(svm.predict(X_train), y_train, 'svm_train')\n",
    "# svm_performance_train.compute_measures()\n",
    "# print(svm_performance_train.performance_measures)"
   ]
  },
  {
   "cell_type": "code",
   "execution_count": 29,
   "metadata": {},
   "outputs": [
    {
     "name": "stdout",
     "output_type": "stream",
     "text": [
      "{'Pos': 12950, 'Neg': 114706, 'TP': 12868, 'TN': 114643, 'FP': 63, 'FN': 82, 'Accuracy': 0.9988641348624429, 'Precision': 0.9951279870079653, 'Recall': 0.9936679536679537, 'desc': 'lgs_train'}\n"
     ]
    }
   ],
   "source": [
    "# from sklearn import linear_model\n",
    "# lgs = linear_model.SGDClassifier(loss='log')\n",
    "# lgs.fit(X_train, y_train)\n",
    "\n",
    "# lgs_performance_train = BinaryClassificationPerformance(lgs.predict(X_train), y_train, 'lgs_train')\n",
    "# lgs_performance_train.compute_measures()\n",
    "# print(lgs_performance_train.performance_measures)"
   ]
  },
  {
   "cell_type": "code",
   "execution_count": 30,
   "metadata": {},
   "outputs": [
    {
     "name": "stdout",
     "output_type": "stream",
     "text": [
      "{'Pos': 12950, 'Neg': 114706, 'TP': 12836, 'TN': 114608, 'FP': 98, 'FN': 114, 'Accuracy': 0.9983392868333647, 'Precision': 0.9924230709757229, 'Recall': 0.9911969111969112, 'desc': 'prc_train'}\n"
     ]
    }
   ],
   "source": [
    "# from sklearn import linear_model\n",
    "# prc = linear_model.SGDClassifier(loss='perceptron')\n",
    "# prc.fit(X_train, y_train)\n",
    "\n",
    "# prc_performance_train = BinaryClassificationPerformance(prc.predict(X_train), y_train, 'prc_train')\n",
    "# prc_performance_train.compute_measures()\n",
    "# print(prc_performance_train.performance_measures)"
   ]
  },
  {
   "cell_type": "code",
   "execution_count": 102,
   "metadata": {},
   "outputs": [
    {
     "name": "stdout",
     "output_type": "stream",
     "text": [
      "{'Pos': 12950, 'Neg': 114706, 'TP': 12058, 'TN': 114568, 'FP': 138, 'FN': 892, 'Accuracy': 0.9919314407470076, 'Precision': 0.9886848146933421, 'Recall': 0.9311196911196912, 'desc': 'A=1'}\n"
     ]
    }
   ],
   "source": [
    "from sklearn import linear_model\n",
    "rdg1 = linear_model.RidgeClassifier(alpha=1.0)\n",
    "rdg1.fit(X_train, y_train)\n",
    "\n",
    "rdg1_performance_train = BinaryClassificationPerformance(rdg1.predict(X_train), y_train, 'A=1')\n",
    "rdg1_performance_train.compute_measures()\n",
    "print(rdg1_performance_train.performance_measures)"
   ]
  },
  {
   "cell_type": "code",
   "execution_count": 103,
   "metadata": {},
   "outputs": [
    {
     "name": "stdout",
     "output_type": "stream",
     "text": [
      "{'Pos': 12950, 'Neg': 114706, 'TP': 12058, 'TN': 114568, 'FP': 138, 'FN': 892, 'Accuracy': 0.9919314407470076, 'Precision': 0.9886848146933421, 'Recall': 0.9311196911196912, 'desc': 'A=1'}\n"
     ]
    }
   ],
   "source": [
    "rdg2 = linear_model.RidgeClassifier(alpha=0.0003)\n",
    "rdg2.fit(X_train, y_train)\n",
    "\n",
    "rdg2_performance_train = BinaryClassificationPerformance(rdg2.predict(X_train), y_train, 'A=0.0003')\n",
    "rdg2_performance_train.compute_measures()\n",
    "print(rdg1_performance_train.performance_measures)"
   ]
  },
  {
   "cell_type": "code",
   "execution_count": 104,
   "metadata": {},
   "outputs": [
    {
     "name": "stdout",
     "output_type": "stream",
     "text": [
      "{'Pos': 12950, 'Neg': 114706, 'TP': 12058, 'TN': 114568, 'FP': 138, 'FN': 892, 'Accuracy': 0.9919314407470076, 'Precision': 0.9886848146933421, 'Recall': 0.9311196911196912, 'desc': 'A=1'}\n"
     ]
    }
   ],
   "source": [
    "rdg3 = linear_model.RidgeClassifier(alpha=0.08)\n",
    "rdg3.fit(X_train, y_train)\n",
    "\n",
    "rdg3_performance_train = BinaryClassificationPerformance(rdg3.predict(X_train), y_train, 'A=0.08')\n",
    "rdg3_performance_train.compute_measures()\n",
    "print(rdg1_performance_train.performance_measures)"
   ]
  },
  {
   "cell_type": "code",
   "execution_count": 105,
   "metadata": {},
   "outputs": [
    {
     "name": "stdout",
     "output_type": "stream",
     "text": [
      "{'Pos': 12950, 'Neg': 114706, 'TP': 12058, 'TN': 114568, 'FP': 138, 'FN': 892, 'Accuracy': 0.9919314407470076, 'Precision': 0.9886848146933421, 'Recall': 0.9311196911196912, 'desc': 'A=1'}\n"
     ]
    }
   ],
   "source": [
    "rdg4 = linear_model.RidgeClassifier(alpha=0.12)\n",
    "rdg4.fit(X_train, y_train)\n",
    "\n",
    "rdg4_performance_train = BinaryClassificationPerformance(rdg4.predict(X_train), y_train, 'A=0.12')\n",
    "rdg4_performance_train.compute_measures()\n",
    "print(rdg1_performance_train.performance_measures)"
   ]
  },
  {
   "cell_type": "code",
   "execution_count": 106,
   "metadata": {},
   "outputs": [
    {
     "name": "stdout",
     "output_type": "stream",
     "text": [
      "{'Pos': 12950, 'Neg': 114706, 'TP': 12058, 'TN': 114568, 'FP': 138, 'FN': 892, 'Accuracy': 0.9919314407470076, 'Precision': 0.9886848146933421, 'Recall': 0.9311196911196912, 'desc': 'A=1'}\n"
     ]
    }
   ],
   "source": [
    "rdg5 = linear_model.RidgeClassifier(alpha=0.7)\n",
    "rdg5.fit(X_train, y_train)\n",
    "\n",
    "rdg5_performance_train = BinaryClassificationPerformance(rdg5.predict(X_train), y_train, 'A=0.7')\n",
    "rdg5_performance_train.compute_measures()\n",
    "print(rdg1_performance_train.performance_measures)"
   ]
  },
  {
   "cell_type": "code",
   "execution_count": 107,
   "metadata": {},
   "outputs": [
    {
     "name": "stdout",
     "output_type": "stream",
     "text": [
      "{'Pos': 12950, 'Neg': 114706, 'TP': 12058, 'TN': 114568, 'FP': 138, 'FN': 892, 'Accuracy': 0.9919314407470076, 'Precision': 0.9886848146933421, 'Recall': 0.9311196911196912, 'desc': 'A=1'}\n"
     ]
    }
   ],
   "source": [
    "rdg6 = linear_model.RidgeClassifier(alpha=10)\n",
    "rdg6.fit(X_train, y_train)\n",
    "\n",
    "rdg6_performance_train = BinaryClassificationPerformance(rdg5.predict(X_train), y_train, 'A=10')\n",
    "rdg6_performance_train.compute_measures()\n",
    "print(rdg1_performance_train.performance_measures)"
   ]
  },
  {
   "cell_type": "code",
   "execution_count": 34,
   "metadata": {},
   "outputs": [
    {
     "name": "stdout",
     "output_type": "stream",
     "text": [
      "{'Pos': 12950, 'Neg': 114706, 'TP': 0, 'TN': 114706, 'FP': 0, 'FN': 12950, 'Accuracy': 0.8985554928871342, 'Precision': nan, 'Recall': 0.0, 'desc': 'rdf_train'}\n"
     ]
    },
    {
     "name": "stderr",
     "output_type": "stream",
     "text": [
      "/Users/yichanwang/Dropbox/2020Fall_Parsons/MachineLearning/Assignment1/my_measures.py:25: RuntimeWarning: invalid value encountered in long_scalars\n",
      "  self.performance_measures['Precision'] = self.performance_measures['TP'] / (self.performance_measures['TP'] + self.performance_measures['FP'])\n"
     ]
    }
   ],
   "source": [
    "# from sklearn.ensemble import RandomForestClassifier\n",
    "# rdf = RandomForestClassifier(max_depth=2, random_state=0)\n",
    "# rdf.fit(X_train, y_train)\n",
    "\n",
    "# rdf_performance_train = BinaryClassificationPerformance(rdf.predict(X_train), y_train, 'rdf_train')\n",
    "# rdf_performance_train.compute_measures()\n",
    "# print(rdf_performance_train.performance_measures)"
   ]
  },
  {
   "cell_type": "code",
   "execution_count": 35,
   "metadata": {},
   "outputs": [
    {
     "name": "stdout",
     "output_type": "stream",
     "text": [
      "{'Pos': 12950, 'Neg': 114706, 'TP': 12712, 'TN': 105786, 'FP': 8920, 'FN': 238, 'Accuracy': 0.9282603246224228, 'Precision': 0.5876479289940828, 'Recall': 0.9816216216216216, 'desc': 'nbs_train'}\n"
     ]
    }
   ],
   "source": [
    "# from sklearn.naive_bayes import MultinomialNB\n",
    "# nbs = MultinomialNB()\n",
    "# nbs.fit(X_train, y_train)\n",
    "\n",
    "# nbs_performance_train = BinaryClassificationPerformance(nbs.predict(X_train), y_train, 'nbs_train')\n",
    "# nbs_performance_train.compute_measures()\n",
    "# print(nbs_performance_train.performance_measures)"
   ]
  },
  {
   "cell_type": "code",
   "execution_count": 108,
   "metadata": {},
   "outputs": [
    {
     "data": {
      "image/png": "[encoded data removed]",
      "text/plain": [
       "<Figure size 432x288 with 1 Axes>"
      ]
     },
     "metadata": {
      "needs_background": "light"
     },
     "output_type": "display_data"
    }
   ],
   "source": [
    "# fits = [ols_performance_train, svm_performance_train, lgs_performance_train, nbs_performance_train, prc_performance_train, rdg_performance_train, rdf_performance_train]\n",
    "fits = [rdg1_performance_train, rdg2_performance_train, rdg3_performance_train, rdg4_performance_train, rdg5_performance_train, rdg6_performance_train]\n",
    "\n",
    "for fit in fits:\n",
    "    plt.plot(fit.performance_measures['FP'] / fit.performance_measures['Neg'], \n",
    "             fit.performance_measures['TP'] / fit.performance_measures['Pos'], 'bo')\n",
    "    plt.text(fit.performance_measures['FP'] / fit.performance_measures['Neg'], \n",
    "             fit.performance_measures['TP'] / fit.performance_measures['Pos'], fit.desc)\n",
    "plt.axis([0.00118, 0.001215, 0.9310, 0.9314])\n",
    "# plt.title('ROC plot: train set')\n",
    "plt.title('ROC plot: train set')\n",
    "plt.xlabel('False positive rate')\n",
    "plt.ylabel('True positive rate')\n",
    "plt.show()"
   ]
  },
  {
   "cell_type": "code",
   "execution_count": 37,
   "metadata": {},
   "outputs": [
    {
     "name": "stdout",
     "output_type": "stream",
     "text": [
      "{'Pos': 3275, 'Neg': 28640, 'TP': 1720, 'TN': 14325, 'FP': 14315, 'FN': 1555, 'Accuracy': 0.5027416575278082, 'Precision': 0.1072653570314936, 'Recall': 0.5251908396946565, 'desc': 'ols_test'}\n"
     ]
    }
   ],
   "source": [
    "# ols_performance_test = BinaryClassificationPerformance(ols.predict(X_test), y_test, 'ols_test')\n",
    "# ols_performance_test.compute_measures()\n",
    "# print(ols_performance_test.performance_measures)"
   ]
  },
  {
   "cell_type": "code",
   "execution_count": 38,
   "metadata": {},
   "outputs": [
    {
     "name": "stdout",
     "output_type": "stream",
     "text": [
      "{'Pos': 3275, 'Neg': 28640, 'TP': 2067, 'TN': 27258, 'FP': 1382, 'FN': 1208, 'Accuracy': 0.918846937176876, 'Precision': 0.5993041461293128, 'Recall': 0.6311450381679389, 'desc': 'svm_test'}\n"
     ]
    }
   ],
   "source": [
    "# svm_performance_test = BinaryClassificationPerformance(svm.predict(X_test), y_test, 'svm_test')\n",
    "# svm_performance_test.compute_measures()\n",
    "# print(svm_performance_test.performance_measures)"
   ]
  },
  {
   "cell_type": "code",
   "execution_count": 39,
   "metadata": {},
   "outputs": [
    {
     "name": "stdout",
     "output_type": "stream",
     "text": [
      "{'Pos': 3275, 'Neg': 28640, 'TP': 2072, 'TN': 27128, 'FP': 1512, 'FN': 1203, 'Accuracy': 0.9149302835657215, 'Precision': 0.578125, 'Recall': 0.6326717557251909, 'desc': 'lgs_test'}\n"
     ]
    }
   ],
   "source": [
    "# lgs_performance_test = BinaryClassificationPerformance(lgs.predict(X_test), y_test, 'lgs_test')\n",
    "# lgs_performance_test.compute_measures()\n",
    "# print(lgs_performance_test.performance_measures)"
   ]
  },
  {
   "cell_type": "code",
   "execution_count": 40,
   "metadata": {},
   "outputs": [
    {
     "name": "stdout",
     "output_type": "stream",
     "text": [
      "{'Pos': 3275, 'Neg': 28640, 'TP': 2424, 'TN': 20826, 'FP': 7814, 'FN': 851, 'Accuracy': 0.728497571674761, 'Precision': 0.2367649931627271, 'Recall': 0.7401526717557252, 'desc': 'nbs_test'}\n"
     ]
    }
   ],
   "source": [
    "# nbs_performance_test = BinaryClassificationPerformance(nbs.predict(X_test), y_test, 'nbs_test')\n",
    "# nbs_performance_test.compute_measures()\n",
    "# print(nbs_performance_test.performance_measures)"
   ]
  },
  {
   "cell_type": "code",
   "execution_count": 41,
   "metadata": {},
   "outputs": [
    {
     "name": "stdout",
     "output_type": "stream",
     "text": [
      "{'Pos': 3275, 'Neg': 28640, 'TP': 2057, 'TN': 27226, 'FP': 1414, 'FN': 1218, 'Accuracy': 0.9175309415635281, 'Precision': 0.5926246038605589, 'Recall': 0.6280916030534351, 'desc': 'prc_test'}\n"
     ]
    }
   ],
   "source": [
    "# prc_performance_test = BinaryClassificationPerformance(prc.predict(X_test), y_test, 'prc_test')\n",
    "# prc_performance_test.compute_measures()\n",
    "# print(prc_performance_test.performance_measures)"
   ]
  },
  {
   "cell_type": "code",
   "execution_count": 120,
   "metadata": {},
   "outputs": [
    {
     "name": "stdout",
     "output_type": "stream",
     "text": [
      "{'Pos': 3275, 'Neg': 28640, 'TP': 1838, 'TN': 26799, 'FP': 1841, 'FN': 1437, 'Accuracy': 0.897289675701081, 'Precision': 0.4995922805110084, 'Recall': 0.5612213740458015, 'desc': 'A=1'}\n"
     ]
    }
   ],
   "source": [
    "rdg1_performance_test = BinaryClassificationPerformance(rdg1.predict(X_test), y_test, 'A=1')\n",
    "rdg1_performance_test.compute_measures()\n",
    "print(rdg1_performance_test.performance_measures)"
   ]
  },
  {
   "cell_type": "code",
   "execution_count": 121,
   "metadata": {},
   "outputs": [
    {
     "name": "stdout",
     "output_type": "stream",
     "text": [
      "{'Pos': 3275, 'Neg': 28640, 'TP': 1838, 'TN': 26784, 'FP': 1856, 'FN': 1437, 'Accuracy': 0.8968196772677425, 'Precision': 0.4975636166756903, 'Recall': 0.5612213740458015, 'desc': 'A=0.0003'}\n"
     ]
    }
   ],
   "source": [
    "rdg2_performance_test = BinaryClassificationPerformance(rdg2.predict(X_test), y_test, 'A=0.0003')\n",
    "rdg2_performance_test.compute_measures()\n",
    "print(rdg2_performance_test.performance_measures)"
   ]
  },
  {
   "cell_type": "code",
   "execution_count": 122,
   "metadata": {},
   "outputs": [
    {
     "name": "stdout",
     "output_type": "stream",
     "text": [
      "{'Pos': 3275, 'Neg': 28640, 'TP': 1838, 'TN': 26786, 'FP': 1854, 'FN': 1437, 'Accuracy': 0.8968823437255209, 'Precision': 0.4978331527627302, 'Recall': 0.5612213740458015, 'desc': 'A=0.08'}\n"
     ]
    }
   ],
   "source": [
    "rdg3_performance_test = BinaryClassificationPerformance(rdg3.predict(X_test), y_test, 'A=0.08')\n",
    "rdg3_performance_test.compute_measures()\n",
    "print(rdg3_performance_test.performance_measures)"
   ]
  },
  {
   "cell_type": "code",
   "execution_count": 123,
   "metadata": {},
   "outputs": [
    {
     "name": "stdout",
     "output_type": "stream",
     "text": [
      "{'Pos': 3275, 'Neg': 28640, 'TP': 1838, 'TN': 26787, 'FP': 1853, 'FN': 1437, 'Accuracy': 0.8969136769544102, 'Precision': 0.4979680303440802, 'Recall': 0.5612213740458015, 'desc': 'A=0.12'}\n"
     ]
    }
   ],
   "source": [
    "rdg4_performance_test = BinaryClassificationPerformance(rdg4.predict(X_test), y_test, 'A=0.12')\n",
    "rdg4_performance_test.compute_measures()\n",
    "print(rdg4_performance_test.performance_measures)"
   ]
  },
  {
   "cell_type": "code",
   "execution_count": 124,
   "metadata": {},
   "outputs": [
    {
     "name": "stdout",
     "output_type": "stream",
     "text": [
      "{'Pos': 3275, 'Neg': 28640, 'TP': 1838, 'TN': 26802, 'FP': 1838, 'FN': 1437, 'Accuracy': 0.8973836753877487, 'Precision': 0.5, 'Recall': 0.5612213740458015, 'desc': 'A=0.7'}\n"
     ]
    }
   ],
   "source": [
    "rdg5_performance_test = BinaryClassificationPerformance(rdg5.predict(X_test), y_test, 'A=0.7')\n",
    "rdg5_performance_test.compute_measures()\n",
    "print(rdg5_performance_test.performance_measures)"
   ]
  },
  {
   "cell_type": "code",
   "execution_count": 125,
   "metadata": {},
   "outputs": [
    {
     "name": "stdout",
     "output_type": "stream",
     "text": [
      "{'Pos': 3275, 'Neg': 28640, 'TP': 1834, 'TN': 26857, 'FP': 1783, 'FN': 1441, 'Accuracy': 0.8989816700610997, 'Precision': 0.5070500414708322, 'Recall': 0.56, 'desc': 'A=10'}\n"
     ]
    }
   ],
   "source": [
    "rdg6_performance_test = BinaryClassificationPerformance(rdg6.predict(X_test), y_test, 'A=10')\n",
    "rdg6_performance_test.compute_measures()\n",
    "print(rdg6_performance_test.performance_measures)"
   ]
  },
  {
   "cell_type": "code",
   "execution_count": 43,
   "metadata": {},
   "outputs": [
    {
     "name": "stdout",
     "output_type": "stream",
     "text": [
      "{'Pos': 3275, 'Neg': 28640, 'TP': 0, 'TN': 28640, 'FP': 0, 'FN': 3275, 'Accuracy': 0.8973836753877487, 'Precision': nan, 'Recall': 0.0, 'desc': 'rdf_test'}\n"
     ]
    },
    {
     "name": "stderr",
     "output_type": "stream",
     "text": [
      "/Users/yichanwang/Dropbox/2020Fall_Parsons/MachineLearning/Assignment1/my_measures.py:25: RuntimeWarning: invalid value encountered in long_scalars\n",
      "  self.performance_measures['Precision'] = self.performance_measures['TP'] / (self.performance_measures['TP'] + self.performance_measures['FP'])\n"
     ]
    }
   ],
   "source": [
    "# rdf_performance_test = BinaryClassificationPerformance(rdf.predict(X_test), y_test, 'rdf_test')\n",
    "# rdf_performance_test.compute_measures()\n",
    "# print(rdf_performance_test.performance_measures)"
   ]
  },
  {
   "cell_type": "code",
   "execution_count": 133,
   "metadata": {},
   "outputs": [
    {
     "data": {
      "image/png": "[encoded data removed]",
      "text/plain": [
       "<Figure size 432x288 with 1 Axes>"
      ]
     },
     "metadata": {
      "needs_background": "light"
     },
     "output_type": "display_data"
    }
   ],
   "source": [
    "# fits = [ols_performance_test, svm_performance_test, lgs_performance_test, nbs_performance_test, prc_performance_test, rdg_performance_test, rdf_performance_test]\n",
    "fits = [rdg1_performance_test, rdg2_performance_test, rdg3_performance_test, rdg4_performance_test, rdg5_performance_test, rdg6_performance_test]\n",
    "\n",
    "for fit in fits:\n",
    "    plt.plot(fit.performance_measures['FP'] / fit.performance_measures['Neg'], \n",
    "             fit.performance_measures['TP'] / fit.performance_measures['Pos'], 'bo')\n",
    "    plt.text(fit.performance_measures['FP'] / fit.performance_measures['Neg'], \n",
    "             fit.performance_measures['TP'] / fit.performance_measures['Pos'], fit.desc)\n",
    "plt.axis([0.062, 0.0648, 0.5595, 0.5615])\n",
    "# plt.title('ROC plot: test set')\n",
    "plt.title('ROC plot: test set')\n",
    "plt.xlabel('False positive rate')\n",
    "plt.ylabel('True positive rate')\n",
    "plt.show()"
   ]
  },
  {
   "cell_type": "code",
   "execution_count": null,
   "metadata": {},
   "outputs": [],
   "source": []
  },
  {
   "cell_type": "code",
   "execution_count": null,
   "metadata": {},
   "outputs": [],
   "source": []
  }
 ],
 "metadata": {
  "kernelspec": {
   "display_name": "Python 3",
   "language": "python",
   "name": "python3"
  },
  "language_info": {
   "codemirror_mode": {
    "name": "ipython",
    "version": 3
   },
   "file_extension": ".py",
   "mimetype": "text/x-python",
   "name": "python",
   "nbconvert_exporter": "python",
   "pygments_lexer": "ipython3",
   "version": "3.8.3"
  }
 },
 "nbformat": 4,
 "nbformat_minor": 4
}

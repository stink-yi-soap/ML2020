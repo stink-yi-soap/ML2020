{
 "cells": [
  {
   "cell_type": "code",
   "execution_count": 23,
   "metadata": {},
   "outputs": [],
   "source": [
    "# ML Assignment2: \n",
    "# https://github.com/visualizedata/ml/blob/master/final_assignment_2/images_starter.ipynb\n",
    "# Code from Aaron Hill\n",
    "\n",
    "import numpy as np\n",
    "import pandas as pd\n",
    "import matplotlib.pyplot as plt\n",
    "import pickle\n",
    "import warnings\n",
    "warnings.filterwarnings(\"ignore\", message=\"numpy.ufunc size changed\")\n",
    "from skimage import io, color, transform, feature, data\n",
    "from skimage.feature import hog, daisy\n",
    "from my_measures import BinaryClassificationPerformance  \n",
    "from sklearn.model_selection import train_test_split\n",
    "%matplotlib inline"
   ]
  },
  {
   "cell_type": "code",
   "execution_count": 24,
   "metadata": {},
   "outputs": [
    {
     "name": "stdout",
     "output_type": "stream",
     "text": [
      "Help on class BinaryClassificationPerformance in module my_measures:\n",
      "\n",
      "class BinaryClassificationPerformance(builtins.object)\n",
      " |  BinaryClassificationPerformance(predictions, labels, desc, probabilities=None)\n",
      " |  \n",
      " |  Performance measures to evaluate the fit of a binary classification model, v1.03\n",
      " |  \n",
      " |  Methods defined here:\n",
      " |  \n",
      " |  __init__(self, predictions, labels, desc, probabilities=None)\n",
      " |      Initialize attributes: predictions-vector of predicted values for Y, labels-vector of labels for Y\n",
      " |  \n",
      " |  compute_measures(self)\n",
      " |      Compute performance measures defined by Flach p. 57\n",
      " |  \n",
      " |  img_indices(self)\n",
      " |      Get the indices of true and false positives to be able to locate the corresponding images in a list of image names\n",
      " |  \n",
      " |  ----------------------------------------------------------------------\n",
      " |  Data descriptors defined here:\n",
      " |  \n",
      " |  __dict__\n",
      " |      dictionary for instance variables (if defined)\n",
      " |  \n",
      " |  __weakref__\n",
      " |      list of weak references to the object (if defined)\n",
      "\n"
     ]
    }
   ],
   "source": [
    "help(BinaryClassificationPerformance)"
   ]
  },
  {
   "cell_type": "code",
   "execution_count": 25,
   "metadata": {},
   "outputs": [],
   "source": [
    "# file paths\n",
    "ci_path = '/Users/yichanwang/Dropbox/2020Fall_Parsons/MachineLearning/Assignment2/data/cropped_images_18/'\n",
    "l_file = '/Users/yichanwang/Dropbox/2020Fall_Parsons/MachineLearning/Assignment2/data/plane_labels_2018.csv'"
   ]
  },
  {
   "cell_type": "code",
   "execution_count": 26,
   "metadata": {},
   "outputs": [],
   "source": [
    "# in downscaling the image, what do you want the new dimensions to be?\n",
    "# the original dimensions of cropped images: (60, 140), which if 8,400 pixels\n",
    "dims = (15, 35) # 25% of the original size, 525 pixels"
   ]
  },
  {
   "cell_type": "code",
   "execution_count": 34,
   "metadata": {},
   "outputs": [],
   "source": [
    "# # Canny Edge Detection\n",
    "# def image_manipulation(imname, imgs_path, imview=False):\n",
    "#     warnings.filterwarnings('ignore')\n",
    "#     imname = imgs_path + imname + '.png'\n",
    "#     img_raw = io.imread(imname, as_gray=True)\n",
    "    \n",
    "#     downscaled = transform.resize(img_raw, (dims[0], dims[1])) # downscale image\n",
    "#     final_image = feature.canny(downscaled) # edge filter image with Canny algorithm\n",
    "    \n",
    "#     if imview==True:\n",
    "#         io.imshow(final_image)\n",
    "#     warnings.filterwarnings('always')\n",
    "#     return final_image\n",
    "\n",
    "# Hog\n",
    "# def image_manipulation(imname, imgs_path, imview=False):\n",
    "#     warnings.filterwarnings('ignore')\n",
    "#     imname = imgs_path + imname + '.png'\n",
    "#     img_raw = io.imread(imname)\n",
    "\n",
    "#     fd, hog_image = hog(img_raw, orientations=4, pixels_per_cell=(12, 12),\n",
    "#                     cells_per_block=(4, 4), visualize=True, multichannel=True)\n",
    "#     final_image = np.array([hog_image])\n",
    "\n",
    "#     if imview==True:\n",
    "#         io.imshow(hog_image)\n",
    "#     warnings.filterwarnings('always')\n",
    "#     return final_image\n",
    "\n",
    "# Daisy\n",
    "def image_manipulation(imname, imgs_path, imview=False):\n",
    "    warnings.filterwarnings('ignore')\n",
    "    imname = imgs_path + imname + '.png'\n",
    "    img_raw = io.imread(imname, as_gray=True)\n",
    "    \n",
    "    gray = color.rgb2gray(img_raw) # remove color\n",
    "    descs, descs_img = daisy(gray, step=40, radius=20, rings=2, histograms=6,\n",
    "                         orientations=8, visualize=True)\n",
    "    final_image = descs_img\n",
    "    \n",
    "    if imview==True:\n",
    "        io.imshow(final_image)\n",
    "    warnings.filterwarnings('always')\n",
    "    return final_image\n",
    "\n",
    "\n",
    "# test the function, look at input/output\n",
    "# test_image = image_manipulation('2017-08-25T23+24+13_390Z', ci_path, True)\n",
    "# print('downscaled image shape: ')\n",
    "# print(test_image.shape)\n",
    "# print('image representation (first row of pixels): ')\n",
    "# print(test_image[0])\n",
    "# print('\\n')\n",
    "# print('example of transformation: ')"
   ]
  },
  {
   "cell_type": "code",
   "execution_count": 35,
   "metadata": {},
   "outputs": [
    {
     "data": {
      "text/plain": [
       "<matplotlib.image.AxesImage at 0x7fd28c5637f0>"
      ]
     },
     "execution_count": 35,
     "metadata": {},
     "output_type": "execute_result"
    },
    {
     "data": {
      "image/png": "[encoded data removed]",
      "text/plain": [
       "<Figure size 432x288 with 1 Axes>"
      ]
     },
     "metadata": {
      "needs_background": "light"
     },
     "output_type": "display_data"
    }
   ],
   "source": [
    "this_imname = ci_path + '2017-08-25T23+24+13_390Z.png'\n",
    "io.imshow(io.imread(this_imname))"
   ]
  },
  {
   "cell_type": "code",
   "execution_count": 36,
   "metadata": {},
   "outputs": [],
   "source": [
    "# function that takes raw images and completes all preprocessing required before model fits\n",
    "def process_raw_data(labels_fn, images_fp, my_random_seed, imview=False, test=False):\n",
    "    plane_data = pd.read_csv(labels_fn) # read in photograph labels\n",
    "    print(\"First few lines of image labels: \")\n",
    "    print(plane_data.head())\n",
    "    print(\"Size of image label dataFrame: \")\n",
    "    print(plane_data.shape)\n",
    "        \n",
    "    # construct lists for features, labels, and a crosswalk reference to image names\n",
    "    features_list = []\n",
    "    if (not test):\n",
    "        y_list = []\n",
    "    imnames_list = []\n",
    "\n",
    "    for index, row in plane_data.iterrows():\n",
    "        features_list.append(image_manipulation(row['img_name'], images_fp))\n",
    "        if (not test):\n",
    "            y_list.append(row['plane'])\n",
    "        imnames_list.append(row['img_name'])\n",
    "    \n",
    "    # convert the lists to ndarrays\n",
    "    features = np.asarray(features_list)\n",
    "    if (not test):\n",
    "        Y = np.asarray(y_list)\n",
    "    imgs = np.asarray(imnames_list)\n",
    "    print('Shape of original feature representation: ')\n",
    "    print(features.shape)\n",
    "\n",
    "    # flatten the images ndarray to one row per image\n",
    "    features_flat = features.reshape((features.shape[0], -1))\n",
    "\n",
    "    print('Shape of flat feature representation: ')\n",
    "    print(features_flat.shape)\n",
    "\n",
    "    if (not test):\n",
    "        print('Shape of Y: ')\n",
    "        print(Y.shape)\n",
    "\n",
    "        print('Number of images with planes: ')\n",
    "        print(Y.sum())\n",
    "    \n",
    "        # create train and test sets\n",
    "        data_train, data_test, y_train, y_test, imgs_train, imgs_test = train_test_split(features_flat, \n",
    "            Y, imgs, test_size = 0.25, random_state = my_random_seed)\n",
    "\n",
    "        print('Shape of training set: ')\n",
    "        print(y_train.shape)\n",
    "        print('Number of training images that contain an airplane: ')\n",
    "        print(y_train.sum())\n",
    "\n",
    "        print('Shape of test set: ')\n",
    "        print(y_test.shape)\n",
    "        print('Number of test images that contain an airplane: ')\n",
    "        print(y_test.sum())\n",
    "    \n",
    "    if (test):\n",
    "        X_submission_test = features_flat\n",
    "        print(\"Shape of X_test for submission:\")\n",
    "        print(X_submission_test.shape)\n",
    "        print('SUCCESS!')\n",
    "        return(X_submission_test, plane_data)\n",
    "    else: \n",
    "        print(\"Shape of data_train and data_test:\")\n",
    "        print(data_train.shape)\n",
    "        print(data_test.shape)\n",
    "        print(\"Shape of y_train and y_test:\")\n",
    "        print(y_train.shape)\n",
    "        print(y_test.shape)\n",
    "        print(\"Shape of imgs_train and imgs_test:\")\n",
    "        print(imgs_train.shape)\n",
    "        print(imgs_test.shape)\n",
    "        print('SUCCESS!')\n",
    "        return(data_train, data_test, y_train, y_test, imgs_train, imgs_test)"
   ]
  },
  {
   "cell_type": "code",
   "execution_count": 37,
   "metadata": {},
   "outputs": [
    {
     "name": "stdout",
     "output_type": "stream",
     "text": [
      "First few lines of image labels: \n",
      "                   img_name  plane\n",
      "0  2016-08-02T13+50+24_430Z  False\n",
      "1  2016-08-02T14+12+37_390Z  False\n",
      "2  2016-08-02T22+20+26_600Z  False\n",
      "3  2016-08-03T12+04+30_670Z  False\n",
      "4  2016-08-03T12+32+21_790Z  False\n",
      "Size of image label dataFrame: \n",
      "(6758, 2)\n",
      "Shape of original feature representation: \n",
      "(6758, 60, 140, 3)\n",
      "Shape of flat feature representation: \n",
      "(6758, 25200)\n",
      "Shape of Y: \n",
      "(6758,)\n",
      "Number of images with planes: \n",
      "101\n",
      "Shape of training set: \n",
      "(5068,)\n",
      "Number of training images that contain an airplane: \n",
      "75\n",
      "Shape of test set: \n",
      "(1690,)\n",
      "Number of test images that contain an airplane: \n",
      "26\n",
      "Shape of data_train and data_test:\n",
      "(5068, 25200)\n",
      "(1690, 25200)\n",
      "Shape of y_train and y_test:\n",
      "(5068,)\n",
      "(1690,)\n",
      "Shape of imgs_train and imgs_test:\n",
      "(5068,)\n",
      "(1690,)\n",
      "SUCCESS!\n"
     ]
    }
   ],
   "source": [
    "data_train, data_test, y_train, y_test, imgs_train, imgs_test = process_raw_data(l_file, ci_path, \n",
    "    my_random_seed=27, imview=False, test=False)"
   ]
  },
  {
   "cell_type": "code",
   "execution_count": 31,
   "metadata": {},
   "outputs": [],
   "source": [
    "# # MODEL: Perceptron\n",
    "# from sklearn import linear_model\n",
    "# prc = linear_model.SGDClassifier(loss='perceptron')\n",
    "# prc.fit(data_train, y_train)\n",
    "\n",
    "# prc_performance = BinaryClassificationPerformance(prc.predict(data_train), y_train, 'prc')\n",
    "# prc_performance.compute_measures()\n",
    "# prc_performance.performance_measures['set'] = 'train'\n",
    "# print('TRAINING SET: ')\n",
    "# print(prc_performance.performance_measures)\n",
    "\n",
    "# prc_performance_test = BinaryClassificationPerformance(prc.predict(data_test), y_test, 'prc')\n",
    "# prc_performance_test.compute_measures()\n",
    "# prc_performance_test.performance_measures['set'] = 'test'\n",
    "# print('TEST SET: ')\n",
    "# print(prc_performance_test.performance_measures)\n",
    "\n",
    "# prc_performance_test.img_indices()\n",
    "# prc_img_indices_to_view = prc_performance_test.image_indices"
   ]
  },
  {
   "cell_type": "code",
   "execution_count": 20,
   "metadata": {},
   "outputs": [],
   "source": [
    "# def performance_examples(typ, measures):\n",
    "#     iiv = ''\n",
    "#     if typ == 'FP':\n",
    "#         iiv = typ + '_indices'\n",
    "#     elif typ == 'TP':\n",
    "#         iiv = typ + '_indices'\n",
    "#     elif typ == 'FN':\n",
    "#         iiv = typ + '_indices'\n",
    "#     else:\n",
    "#         raise ValueError('input must be \"TP\", \"FP\", or \"FN\"')\n",
    "#     for img in measures[iiv]:\n",
    "#         warnings.filterwarnings('ignore')    \n",
    "#         plt.figure()\n",
    "#         lookat = ci_path + imgs_test[img] + '.png' # location of original image\n",
    "#         io.imshow(lookat) # show original image\n",
    "#         plt.figure()\n",
    "#         io.imshow(data_test[img].reshape(dims[0], dims[1])) # show manipulation for feature representation\n",
    "#         warnings.filterwarnings('always')"
   ]
  },
  {
   "cell_type": "code",
   "execution_count": 49,
   "metadata": {},
   "outputs": [],
   "source": [
    "# performance_examples('TP', prc_img_indices_to_view)\n",
    "# performance_examples('FP', prc_img_indices_to_view)"
   ]
  },
  {
   "cell_type": "code",
   "execution_count": 45,
   "metadata": {},
   "outputs": [
    {
     "name": "stdout",
     "output_type": "stream",
     "text": [
      "MLPClassifier(max_iter=1000)\n",
      "TRAINING SET: \n",
      "{'Pos': 75, 'Neg': 4993, 'TP': 75, 'TN': 4993, 'FP': 0, 'FN': 0, 'Accuracy': 1.0, 'Precision': 1.0, 'Recall': 1.0, 'desc': '0', 'set': 'train'}\n",
      "TEST SET: \n",
      "{'Pos': 26, 'Neg': 1664, 'TP': 21, 'TN': 1664, 'FP': 0, 'FN': 5, 'Accuracy': 0.9970414201183432, 'Precision': 1.0, 'Recall': 0.8076923076923077, 'desc': '0', 'set': 'test'}\n",
      "* * * * *\n",
      "MLPClassifier(hidden_layer_sizes=(10, 10), max_iter=1000)\n",
      "TRAINING SET: \n",
      "{'Pos': 75, 'Neg': 4993, 'TP': 75, 'TN': 4993, 'FP': 0, 'FN': 0, 'Accuracy': 1.0, 'Precision': 1.0, 'Recall': 1.0, 'desc': '1', 'set': 'train'}\n",
      "TEST SET: \n",
      "{'Pos': 26, 'Neg': 1664, 'TP': 21, 'TN': 1664, 'FP': 0, 'FN': 5, 'Accuracy': 0.9970414201183432, 'Precision': 1.0, 'Recall': 0.8076923076923077, 'desc': '1', 'set': 'test'}\n",
      "* * * * *\n",
      "MLPClassifier(hidden_layer_sizes=(30, 30), max_iter=1000)\n",
      "TRAINING SET: \n",
      "{'Pos': 75, 'Neg': 4993, 'TP': 75, 'TN': 4993, 'FP': 0, 'FN': 0, 'Accuracy': 1.0, 'Precision': 1.0, 'Recall': 1.0, 'desc': '2', 'set': 'train'}\n",
      "TEST SET: \n",
      "{'Pos': 26, 'Neg': 1664, 'TP': 22, 'TN': 1664, 'FP': 0, 'FN': 4, 'Accuracy': 0.9976331360946745, 'Precision': 1.0, 'Recall': 0.8461538461538461, 'desc': '2', 'set': 'test'}\n",
      "* * * * *\n",
      "MLPClassifier(hidden_layer_sizes=(50, 50), max_iter=1000)\n",
      "TRAINING SET: \n",
      "{'Pos': 75, 'Neg': 4993, 'TP': 75, 'TN': 4993, 'FP': 0, 'FN': 0, 'Accuracy': 1.0, 'Precision': 1.0, 'Recall': 1.0, 'desc': '3', 'set': 'train'}\n",
      "TEST SET: \n",
      "{'Pos': 26, 'Neg': 1664, 'TP': 21, 'TN': 1664, 'FP': 0, 'FN': 5, 'Accuracy': 0.9970414201183432, 'Precision': 1.0, 'Recall': 0.8076923076923077, 'desc': '3', 'set': 'test'}\n",
      "* * * * *\n",
      "MLPClassifier(hidden_layer_sizes=(100, 100), max_iter=1000)\n",
      "TRAINING SET: \n",
      "{'Pos': 75, 'Neg': 4993, 'TP': 27, 'TN': 4993, 'FP': 0, 'FN': 48, 'Accuracy': 0.9905288082083662, 'Precision': 1.0, 'Recall': 0.36, 'desc': '4', 'set': 'train'}\n",
      "TEST SET: \n",
      "{'Pos': 26, 'Neg': 1664, 'TP': 5, 'TN': 1664, 'FP': 0, 'FN': 21, 'Accuracy': 0.9875739644970414, 'Precision': 1.0, 'Recall': 0.19230769230769232, 'desc': '4', 'set': 'test'}\n",
      "* * * * *\n",
      "MLPClassifier(hidden_layer_sizes=(10, 10, 10), max_iter=1000)\n",
      "TRAINING SET: \n",
      "{'Pos': 75, 'Neg': 4993, 'TP': 75, 'TN': 4993, 'FP': 0, 'FN': 0, 'Accuracy': 1.0, 'Precision': 1.0, 'Recall': 1.0, 'desc': '5', 'set': 'train'}\n",
      "TEST SET: \n",
      "{'Pos': 26, 'Neg': 1664, 'TP': 23, 'TN': 1663, 'FP': 1, 'FN': 3, 'Accuracy': 0.9976331360946745, 'Precision': 0.9583333333333334, 'Recall': 0.8846153846153846, 'desc': '5', 'set': 'test'}\n",
      "* * * * *\n",
      "MLPClassifier(hidden_layer_sizes=(50, 50, 50), max_iter=1000)\n",
      "TRAINING SET: \n",
      "{'Pos': 75, 'Neg': 4993, 'TP': 75, 'TN': 4993, 'FP': 0, 'FN': 0, 'Accuracy': 1.0, 'Precision': 1.0, 'Recall': 1.0, 'desc': '6', 'set': 'train'}\n",
      "TEST SET: \n",
      "{'Pos': 26, 'Neg': 1664, 'TP': 23, 'TN': 1663, 'FP': 1, 'FN': 3, 'Accuracy': 0.9976331360946745, 'Precision': 0.9583333333333334, 'Recall': 0.8846153846153846, 'desc': '6', 'set': 'test'}\n",
      "* * * * *\n",
      "MLPClassifier(hidden_layer_sizes=(100, 100, 100), max_iter=1000)\n",
      "TRAINING SET: \n",
      "{'Pos': 75, 'Neg': 4993, 'TP': 75, 'TN': 4993, 'FP': 0, 'FN': 0, 'Accuracy': 1.0, 'Precision': 1.0, 'Recall': 1.0, 'desc': '7', 'set': 'train'}\n",
      "TEST SET: \n",
      "{'Pos': 26, 'Neg': 1664, 'TP': 23, 'TN': 1664, 'FP': 0, 'FN': 3, 'Accuracy': 0.9982248520710059, 'Precision': 1.0, 'Recall': 0.8846153846153846, 'desc': '7', 'set': 'test'}\n",
      "* * * * *\n",
      "MLPClassifier(hidden_layer_sizes=(50, 50, 50, 50), max_iter=1000)\n",
      "TRAINING SET: \n",
      "{'Pos': 75, 'Neg': 4993, 'TP': 49, 'TN': 4993, 'FP': 0, 'FN': 26, 'Accuracy': 0.994869771112865, 'Precision': 1.0, 'Recall': 0.6533333333333333, 'desc': '8', 'set': 'train'}\n",
      "TEST SET: \n",
      "{'Pos': 26, 'Neg': 1664, 'TP': 14, 'TN': 1664, 'FP': 0, 'FN': 12, 'Accuracy': 0.9928994082840237, 'Precision': 1.0, 'Recall': 0.5384615384615384, 'desc': '8', 'set': 'test'}\n",
      "* * * * *\n"
     ]
    }
   ],
   "source": [
    "# MODEL: Multi-layer Perceptron aka neural network\n",
    "from sklearn import neural_network\n",
    "\n",
    "nnm = {}\n",
    "nnm_performance = {}\n",
    "nnm_performance_test = {}\n",
    "nnm_img_indices_to_view = {}\n",
    "\n",
    "hls = [\n",
    "    (100,),\n",
    "    (10, 10),\n",
    "    (30, 30),\n",
    "    (50, 50),\n",
    "    (100, 100),\n",
    "    (10, 10, 10),\n",
    "    (50, 50, 50),\n",
    "    (100, 100, 100),\n",
    "    (50, 50, 50, 50),\n",
    "#     (100, 100, 100, 100),\n",
    "#     (50, 50, 50, 50, 50),\n",
    "#     (50, 50, 50, 50, 50, 50),\n",
    "]\n",
    "\n",
    "\n",
    "for i in range(9):\n",
    "    \n",
    "    nnm[i] = neural_network.MLPClassifier(hidden_layer_sizes=hls[i], max_iter=1000)\n",
    "    print(nnm[i])\n",
    "    nnm[i].fit(data_train, y_train)\n",
    "    \n",
    "    nnm_performance[i] = BinaryClassificationPerformance(nnm[i].predict(data_train), y_train, str(i))\n",
    "    nnm_performance[i].compute_measures()\n",
    "    nnm_performance[i].performance_measures['set'] = 'train'\n",
    "    print('TRAINING SET: ')\n",
    "    print(nnm_performance[i].performance_measures)\n",
    "\n",
    "    nnm_performance_test[i] = BinaryClassificationPerformance(nnm[i].predict(data_test), y_test, str(i))\n",
    "    nnm_performance_test[i].compute_measures()\n",
    "    nnm_performance_test[i].performance_measures['set'] = 'test'\n",
    "    print('TEST SET: ')\n",
    "    print(nnm_performance_test[i].performance_measures)\n",
    "    \n",
    "    print('* * * * *')\n",
    "    \n",
    "    nnm_performance_test[i].img_indices()\n",
    "    nnm_img_indices_to_view[i] = nnm_performance_test[i].image_indices\n"
   ]
  },
  {
   "cell_type": "code",
   "execution_count": 51,
   "metadata": {},
   "outputs": [],
   "source": [
    "# performance_examples('TP', nn_img_indices_to_view)\n",
    "# performance_examples('FP', nn_img_indices_to_view)"
   ]
  },
  {
   "cell_type": "code",
   "execution_count": 51,
   "metadata": {},
   "outputs": [],
   "source": [
    "# list of fits to compare: \n",
    "final_fits = []\n",
    "# final_fits.append(prc_performance.performance_measures)\n",
    "# final_fits.append(prc_performance_test.performance_measures)\n",
    "for i in range(9): \n",
    "    final_fits.append(nnm_performance[i].performance_measures)\n",
    "    final_fits.append(nnm_performance_test[i].performance_measures)"
   ]
  },
  {
   "cell_type": "code",
   "execution_count": 52,
   "metadata": {},
   "outputs": [
    {
     "data": {
      "image/png": "[encoded data removed]",
      "text/plain": [
       "<Figure size 720x720 with 1 Axes>"
      ]
     },
     "metadata": {},
     "output_type": "display_data"
    }
   ],
   "source": [
    "plt.style.use('fivethirtyeight')\n",
    "plt.style.use('ggplot')\n",
    "\n",
    "plt.figure(figsize=(10,10))\n",
    "\n",
    "for fit in final_fits:\n",
    "    if fit['set'] == 'train':\n",
    "        color = 'co'\n",
    "    else:\n",
    "        color = 'ro'\n",
    "    plt.plot(fit['FP'] / fit['Neg'], \n",
    "             fit['TP'] / fit['Pos'], color, markersize=12)\n",
    "    plt.text(fit['FP'] / fit['Neg'], \n",
    "             fit['TP'] / fit['Pos'], fit['desc'] + ': ' + fit['set'], fontsize=16)\n",
    "plt.axis([0, 0.1, 0, 1])\n",
    "plt.title('ROC plot: Daisy')\n",
    "plt.xlabel('False positive rate')\n",
    "plt.ylabel('True positive rate')\n",
    "plt.show()"
   ]
  },
  {
   "cell_type": "code",
   "execution_count": null,
   "metadata": {},
   "outputs": [],
   "source": []
  }
 ],
 "metadata": {
  "kernelspec": {
   "display_name": "Python 3",
   "language": "python",
   "name": "python3"
  },
  "language_info": {
   "codemirror_mode": {
    "name": "ipython",
    "version": 3
   },
   "file_extension": ".py",
   "mimetype": "text/x-python",
   "name": "python",
   "nbconvert_exporter": "python",
   "pygments_lexer": "ipython3",
   "version": "3.8.3"
  }
 },
 "nbformat": 4,
 "nbformat_minor": 4
}

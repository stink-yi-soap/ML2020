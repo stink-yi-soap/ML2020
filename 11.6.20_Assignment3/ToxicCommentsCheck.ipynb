{
 "cells": [
  {
   "cell_type": "code",
   "execution_count": 2,
   "metadata": {},
   "outputs": [],
   "source": [
    "# ML Assignment1 First Iteration: \n",
    "# https://github.com/visualizedata/ml/blob/master/final_assignment_1/toxiccomments_first_full_iteration.ipynb\n",
    "# Code from Aaron Hill\n",
    "\n",
    "import numpy as np\n",
    "import pandas as pd\n",
    "import matplotlib.pyplot as plt\n",
    "from my_measures import BinaryClassificationPerformance\n",
    "from sklearn.feature_extraction.text import HashingVectorizer\n",
    "from sklearn.feature_extraction.text import TfidfTransformer\n",
    "from scipy.sparse import csr_matrix, hstack\n",
    "from sklearn.preprocessing import StandardScaler\n",
    "from sklearn.model_selection import train_test_split\n",
    "%matplotlib inline"
   ]
  },
  {
   "cell_type": "code",
   "execution_count": 3,
   "metadata": {},
   "outputs": [
    {
     "name": "stdout",
     "output_type": "stream",
     "text": [
      "Help on class BinaryClassificationPerformance in module my_measures:\n",
      "\n",
      "class BinaryClassificationPerformance(builtins.object)\n",
      " |  BinaryClassificationPerformance(predictions, labels, desc, probabilities=None)\n",
      " |  \n",
      " |  Performance measures to evaluate the fit of a binary classification model, v1.02\n",
      " |  \n",
      " |  Methods defined here:\n",
      " |  \n",
      " |  __init__(self, predictions, labels, desc, probabilities=None)\n",
      " |      Initialize attributes: predictions-vector of predicted values for Y, labels-vector of labels for Y\n",
      " |  \n",
      " |  compute_measures(self)\n",
      " |      Compute performance measures defined by Flach p. 57\n",
      " |  \n",
      " |  img_indices(self)\n",
      " |      Get the indices of true and false positives to be able to locate the corresponding images in a list of image names\n",
      " |  \n",
      " |  ----------------------------------------------------------------------\n",
      " |  Data descriptors defined here:\n",
      " |  \n",
      " |  __dict__\n",
      " |      dictionary for instance variables (if defined)\n",
      " |  \n",
      " |  __weakref__\n",
      " |      list of weak references to the object (if defined)\n",
      "\n"
     ]
    }
   ],
   "source": [
    "help(BinaryClassificationPerformance)"
   ]
  },
  {
   "cell_type": "code",
   "execution_count": 4,
   "metadata": {},
   "outputs": [],
   "source": [
    "# function that takes raw data and completes all preprocessing required before model fits\n",
    "def process_raw_data(fn, my_random_seed, test=False):\n",
    "    # read and summarize data\n",
    "    toxic_data = pd.read_csv(fn)\n",
    "    if (not test):\n",
    "        # add an indicator for any toxic, severe toxic, obscene, threat, insult, or indentity hate\n",
    "        toxic_data['any_toxic'] = (toxic_data['toxic'] + toxic_data['severe_toxic'] + toxic_data['obscene'] + toxic_data['threat'] + toxic_data['insult'] + toxic_data['identity_hate'] > 0)\n",
    "    print(\"toxic_data is:\", type(toxic_data))\n",
    "    print(\"toxic_data has\", toxic_data.shape[0], \"rows and\", toxic_data.shape[1], \"columns\", \"\\n\")\n",
    "    print(\"the data types for each of the columns in toxic_data:\")\n",
    "    print(toxic_data.dtypes, \"\\n\")\n",
    "    print(\"the first 10 rows in toxic_data:\")\n",
    "    print(toxic_data.head(5))\n",
    "    if (not test):\n",
    "        print(\"The rate of 'toxic' Wikipedia comments in the dataset: \")\n",
    "        print(toxic_data['any_toxic'].mean())\n",
    "\n",
    "    # vectorize Bag of Words from review text; as sparse matrix\n",
    "    if (not test): # fit_transform()\n",
    "        hv = HashingVectorizer(n_features=2 ** 20, alternate_sign=False)\n",
    "        X_hv = hv.fit_transform(toxic_data.comment_text)\n",
    "        fitted_transformations.append(hv)\n",
    "        print(\"Shape of HashingVectorizer X:\")\n",
    "        print(X_hv.shape)\n",
    "    else: # transform() \n",
    "        X_hv = fitted_transformations[0].transform(toxic_data.comment_text)\n",
    "        print(\"Shape of HashingVectorizer X:\")\n",
    "        print(X_hv.shape)\n",
    "    \n",
    "    # http://scikit-learn.org/stable/modules/generated/sklearn.feature_extraction.text.TfidfTransformer.html\n",
    "    if (not test):\n",
    "        transformer = TfidfTransformer()\n",
    "        X_tfidf = transformer.fit_transform(X_hv)\n",
    "        fitted_transformations.append(transformer)\n",
    "    else:\n",
    "        X_tfidf = fitted_transformations[1].transform(X_hv)\n",
    "    \n",
    "    # create additional quantitative features\n",
    "    # features from Amazon.csv to add to feature set\n",
    "    toxic_data['word_count'] = toxic_data['comment_text'].str.split(' ').str.len()\n",
    "    toxic_data['punc_count'] = toxic_data['comment_text'].str.count(\"\\.\")\n",
    "\n",
    "    X_quant_features = toxic_data[[\"word_count\", \"punc_count\"]]\n",
    "    print(\"Look at a few rows of the new quantitative features: \")\n",
    "    print(X_quant_features.head(10))\n",
    "    \n",
    "    # Combine all quantitative features into a single sparse matrix\n",
    "    X_quant_features_csr = csr_matrix(X_quant_features)\n",
    "    X_combined = hstack([X_tfidf, X_quant_features_csr])\n",
    "    X_matrix = csr_matrix(X_combined) # convert to sparse matrix\n",
    "    print(\"Size of combined bag of words and new quantitative variables matrix:\")\n",
    "    print(X_matrix.shape)\n",
    "    \n",
    "    # Create `X`, scaled matrix of features\n",
    "    # feature scaling\n",
    "    if (not test):\n",
    "        sc = StandardScaler(with_mean=False)\n",
    "        X = sc.fit_transform(X_matrix)\n",
    "        fitted_transformations.append(sc)\n",
    "        print(X.shape)\n",
    "        y = toxic_data['any_toxic']\n",
    "    else:\n",
    "        X = fitted_transformations[2].transform(X_matrix)\n",
    "        print(X.shape)\n",
    "    \n",
    "    # Create Training and Test Sets\n",
    "    # enter an integer for the random_state parameter; any integer will work\n",
    "    if (test):\n",
    "        X_submission_test = X\n",
    "        print(\"Shape of X_test for submission:\")\n",
    "        print(X_submission_test.shape)\n",
    "        print('SUCCESS!')\n",
    "        return(toxic_data, X_submission_test)\n",
    "    else: \n",
    "        X_train, X_test, y_train, y_test, X_raw_train, X_raw_test = train_test_split(X, y, toxic_data, test_size=0.2, random_state=my_random_seed)\n",
    "        print(\"Shape of X_train and X_test:\")\n",
    "        print(X_train.shape)\n",
    "        print(X_test.shape)\n",
    "        print(\"Shape of y_train and y_test:\")\n",
    "        print(y_train.shape)\n",
    "        print(y_test.shape)\n",
    "        print(\"Shape of X_raw_train and X_raw_test:\")\n",
    "        print(X_raw_train.shape)\n",
    "        print(X_raw_test.shape)\n",
    "        print('SUCCESS!')\n",
    "        return(X_train, X_test, y_train, y_test, X_raw_train, X_raw_test)"
   ]
  },
  {
   "cell_type": "code",
   "execution_count": 5,
   "metadata": {},
   "outputs": [
    {
     "name": "stdout",
     "output_type": "stream",
     "text": [
      "toxic_data is: <class 'pandas.core.frame.DataFrame'>\n",
      "toxic_data has 159571 rows and 9 columns \n",
      "\n",
      "the data types for each of the columns in toxic_data:\n",
      "id               object\n",
      "comment_text     object\n",
      "toxic             int64\n",
      "severe_toxic      int64\n",
      "obscene           int64\n",
      "threat            int64\n",
      "insult            int64\n",
      "identity_hate     int64\n",
      "any_toxic          bool\n",
      "dtype: object \n",
      "\n",
      "the first 10 rows in toxic_data:\n",
      "                 id                                       comment_text  toxic  \\\n",
      "0  0000997932d777bf  Explanation\\nWhy the edits made under my usern...      0   \n",
      "1  000103f0d9cfb60f  D'aww! He matches this background colour I'm s...      0   \n",
      "2  000113f07ec002fd  Hey man, I'm really not trying to edit war. It...      0   \n",
      "3  0001b41b1c6bb37e  \"\\nMore\\nI can't make any real suggestions on ...      0   \n",
      "4  0001d958c54c6e35  You, sir, are my hero. Any chance you remember...      0   \n",
      "\n",
      "   severe_toxic  obscene  threat  insult  identity_hate  any_toxic  \n",
      "0             0        0       0       0              0      False  \n",
      "1             0        0       0       0              0      False  \n",
      "2             0        0       0       0              0      False  \n",
      "3             0        0       0       0              0      False  \n",
      "4             0        0       0       0              0      False  \n",
      "The rate of 'toxic' Wikipedia comments in the dataset: \n",
      "0.10167887648758234\n",
      "Shape of HashingVectorizer X:\n",
      "(159571, 1048576)\n",
      "Look at a few rows of the new quantitative features: \n",
      "   word_count  punc_count\n",
      "0          42           5\n",
      "1          18           2\n",
      "2          42           3\n",
      "3         112           3\n",
      "4          13           1\n",
      "5          12           1\n",
      "6           8           0\n",
      "7          21           2\n",
      "8          83           7\n",
      "9          12           0\n",
      "Size of combined bag of words and new quantitative variables matrix:\n",
      "(159571, 1048578)\n",
      "(159571, 1048578)\n",
      "Shape of X_train and X_test:\n",
      "(127656, 1048578)\n",
      "(31915, 1048578)\n",
      "Shape of y_train and y_test:\n",
      "(127656,)\n",
      "(31915,)\n",
      "Shape of X_raw_train and X_raw_test:\n",
      "(127656, 11)\n",
      "(31915, 11)\n",
      "SUCCESS!\n",
      "Number of fits stored in `fitted_transformations` list: \n",
      "3\n"
     ]
    }
   ],
   "source": [
    "# create an empty list to store any use of fit_transform() to transform() later\n",
    "# it is a global list to store model and feature extraction fits\n",
    "fitted_transformations = []\n",
    "\n",
    "# CHANGE FILE PATH and my_random_seed number (any integer other than 74 will do): \n",
    "X_train, X_test, y_train, y_test, X_raw_train, X_raw_test = process_raw_data(fn='/Users/yichanwang/Dropbox/2020Fall_Parsons/MachineLearning/Assignment1/toxiccomments_train.csv', my_random_seed=11)\n",
    "\n",
    "print(\"Number of fits stored in `fitted_transformations` list: \")\n",
    "print(len(fitted_transformations))"
   ]
  },
  {
   "cell_type": "code",
   "execution_count": 27,
   "metadata": {},
   "outputs": [
    {
     "name": "stdout",
     "output_type": "stream",
     "text": [
      "{'Pos': 12950, 'Neg': 114706, 'TP': 6764, 'TN': 57620, 'FP': 57086, 'FN': 6186, 'Accuracy': 0.5043554552860814, 'Precision': 0.10593578700078309, 'Recall': 0.5223166023166023, 'desc': 'ols_train'}\n"
     ]
    }
   ],
   "source": [
    "# from sklearn import linear_model\n",
    "# ols = linear_model.SGDClassifier(loss=\"squared_loss\")\n",
    "# ols.fit(X_train, y_train)\n",
    "\n",
    "# ols_performance_train = BinaryClassificationPerformance(ols.predict(X_train), y_train, 'ols_train')\n",
    "# ols_performance_train.compute_measures()\n",
    "# print(ols_performance_train.performance_measures)"
   ]
  },
  {
   "cell_type": "code",
   "execution_count": 26,
   "metadata": {},
   "outputs": [],
   "source": [
    "# from sklearn import linear_model\n",
    "# svm = linear_model.SGDClassifier()\n",
    "# svm.fit(X_train, y_train)\n",
    "\n",
    "# svm_performance_train = BinaryClassificationPerformance(svm.predict(X_train), y_train, 'svm_train')\n",
    "# svm_performance_train.compute_measures()\n",
    "# print(svm1_performance_train.performance_measures)"
   ]
  },
  {
   "cell_type": "code",
   "execution_count": 6,
   "metadata": {},
   "outputs": [
    {
     "name": "stdout",
     "output_type": "stream",
     "text": [
      "{'Pos': 12950, 'Neg': 114706, 'TP': 12884, 'TN': 114498, 'FP': 208, 'FN': 66, 'Accuracy': 0.9978536065676505, 'Precision': 0.9841124350748549, 'Recall': 0.9949034749034749, 'desc': 'C=1'}\n"
     ]
    },
    {
     "name": "stderr",
     "output_type": "stream",
     "text": [
      "/opt/anaconda3/lib/python3.8/site-packages/sklearn/svm/_base.py:976: ConvergenceWarning: Liblinear failed to converge, increase the number of iterations.\n",
      "  warnings.warn(\"Liblinear failed to converge, increase \"\n"
     ]
    }
   ],
   "source": [
    ">>> from sklearn.svm import LinearSVC\n",
    "svc1 = LinearSVC(C=1.0)\n",
    "svc1.fit(X_train, y_train)\n",
    "\n",
    "svc1_performance_train = BinaryClassificationPerformance(svc1.predict(X_train), y_train, 'C=1')\n",
    "svc1_performance_train.compute_measures()\n",
    "print(svc1_performance_train.performance_measures)"
   ]
  },
  {
   "cell_type": "code",
   "execution_count": 25,
   "metadata": {},
   "outputs": [
    {
     "name": "stdout",
     "output_type": "stream",
     "text": [
      "{'Pos': 12950, 'Neg': 114706, 'TP': 12898, 'TN': 114657, 'FP': 49, 'FN': 52, 'Accuracy': 0.9992088111800463, 'Precision': 0.9962153394608789, 'Recall': 0.9959845559845559, 'desc': 'C=0.01'}\n"
     ]
    }
   ],
   "source": [
    "svc2 = LinearSVC(C=0.01)\n",
    "svc2.fit(X_train, y_train)\n",
    "\n",
    "svc2_performance_train = BinaryClassificationPerformance(svc2.predict(X_train), y_train, 'C=0.01')\n",
    "svc2_performance_train.compute_measures()\n",
    "print(svc2_performance_train.performance_measures)"
   ]
  },
  {
   "cell_type": "code",
   "execution_count": 10,
   "metadata": {},
   "outputs": [
    {
     "name": "stdout",
     "output_type": "stream",
     "text": [
      "{'Pos': 12950, 'Neg': 114706, 'TP': 12889, 'TN': 114468, 'FP': 238, 'FN': 61, 'Accuracy': 0.9976577677508304, 'Precision': 0.9818694294202788, 'Recall': 0.9952895752895753, 'desc': 'C=10'}\n"
     ]
    }
   ],
   "source": [
    "svc3 = LinearSVC(C=10)\n",
    "svc3.fit(X_train, y_train)\n",
    "\n",
    "svc3_performance_train = BinaryClassificationPerformance(svc3.predict(X_train), y_train, 'C=10')\n",
    "svc3_performance_train.compute_measures()\n",
    "print(svc3_performance_train.performance_measures)"
   ]
  },
  {
   "cell_type": "code",
   "execution_count": 11,
   "metadata": {},
   "outputs": [
    {
     "name": "stdout",
     "output_type": "stream",
     "text": [
      "{'Pos': 12950, 'Neg': 114706, 'TP': 12890, 'TN': 114460, 'FP': 246, 'FN': 60, 'Accuracy': 0.9976029328821207, 'Precision': 0.981272838002436, 'Recall': 0.9953667953667954, 'desc': 'C=100'}\n"
     ]
    }
   ],
   "source": [
    "svc4 = LinearSVC(C=100)\n",
    "svc4.fit(X_train, y_train)\n",
    "\n",
    "svc4_performance_train = BinaryClassificationPerformance(svc4.predict(X_train), y_train, 'C=100')\n",
    "svc4_performance_train.compute_measures()\n",
    "print(svc4_performance_train.performance_measures)"
   ]
  },
  {
   "cell_type": "code",
   "execution_count": 13,
   "metadata": {},
   "outputs": [
    {
     "name": "stdout",
     "output_type": "stream",
     "text": [
      "{'Pos': 12950, 'Neg': 114706, 'TP': 12882, 'TN': 114451, 'FP': 255, 'FN': 68, 'Accuracy': 0.997469762486683, 'Precision': 0.9805891756108701, 'Recall': 0.9947490347490348, 'desc': 'C=1000'}\n"
     ]
    }
   ],
   "source": [
    "svc5 = LinearSVC(C=1000)\n",
    "svc5.fit(X_train, y_train)\n",
    "\n",
    "svc5_performance_train = BinaryClassificationPerformance(svc5.predict(X_train), y_train, 'C=1000')\n",
    "svc5_performance_train.compute_measures()\n",
    "print(svc5_performance_train.performance_measures)"
   ]
  },
  {
   "cell_type": "code",
   "execution_count": 18,
   "metadata": {},
   "outputs": [
    {
     "name": "stdout",
     "output_type": "stream",
     "text": [
      "{'Pos': 12950, 'Neg': 114706, 'TP': 12900, 'TN': 114646, 'FP': 60, 'FN': 50, 'Accuracy': 0.9991383092059911, 'Precision': 0.9953703703703703, 'Recall': 0.9961389961389961, 'desc': 'C=0.1'}\n"
     ]
    }
   ],
   "source": [
    "svc6 = LinearSVC(C=0.1)\n",
    "svc6.fit(X_train, y_train)\n",
    "\n",
    "svc6_performance_train = BinaryClassificationPerformance(svc6.predict(X_train), y_train, 'C=0.1')\n",
    "svc6_performance_train.compute_measures()\n",
    "print(svc6_performance_train.performance_measures)"
   ]
  },
  {
   "cell_type": "code",
   "execution_count": 37,
   "metadata": {},
   "outputs": [
    {
     "name": "stdout",
     "output_type": "stream",
     "text": [
      "{'Pos': 12950, 'Neg': 114706, 'TP': 12464, 'TN': 114541, 'FP': 165, 'FN': 486, 'Accuracy': 0.9949003572100019, 'Precision': 0.9869348325283078, 'Recall': 0.9624710424710424, 'desc': 'C=0.0001'}\n"
     ]
    }
   ],
   "source": [
    "svc7 = LinearSVC(C=0.0001)\n",
    "svc7.fit(X_train, y_train)\n",
    "\n",
    "svc7_performance_train = BinaryClassificationPerformance(svc7.predict(X_train), y_train, 'C=0.0001')\n",
    "svc7_performance_train.compute_measures()\n",
    "print(svc7_performance_train.performance_measures)"
   ]
  },
  {
   "cell_type": "code",
   "execution_count": 29,
   "metadata": {},
   "outputs": [
    {
     "name": "stdout",
     "output_type": "stream",
     "text": [
      "{'Pos': 12950, 'Neg': 114706, 'TP': 12868, 'TN': 114643, 'FP': 63, 'FN': 82, 'Accuracy': 0.9988641348624429, 'Precision': 0.9951279870079653, 'Recall': 0.9936679536679537, 'desc': 'lgs_train'}\n"
     ]
    }
   ],
   "source": [
    "# from sklearn import linear_model\n",
    "# lgs = linear_model.SGDClassifier(loss='log')\n",
    "# lgs.fit(X_train, y_train)\n",
    "\n",
    "# lgs_performance_train = BinaryClassificationPerformance(lgs.predict(X_train), y_train, 'lgs_train')\n",
    "# lgs_performance_train.compute_measures()\n",
    "# print(lgs_performance_train.performance_measures)"
   ]
  },
  {
   "cell_type": "code",
   "execution_count": 30,
   "metadata": {},
   "outputs": [
    {
     "name": "stdout",
     "output_type": "stream",
     "text": [
      "{'Pos': 12950, 'Neg': 114706, 'TP': 12836, 'TN': 114608, 'FP': 98, 'FN': 114, 'Accuracy': 0.9983392868333647, 'Precision': 0.9924230709757229, 'Recall': 0.9911969111969112, 'desc': 'prc_train'}\n"
     ]
    }
   ],
   "source": [
    "# from sklearn import linear_model\n",
    "# prc = linear_model.SGDClassifier(loss='perceptron')\n",
    "# prc.fit(X_train, y_train)\n",
    "\n",
    "# prc_performance_train = BinaryClassificationPerformance(prc.predict(X_train), y_train, 'prc_train')\n",
    "# prc_performance_train.compute_measures()\n",
    "# print(prc_performance_train.performance_measures)"
   ]
  },
  {
   "cell_type": "code",
   "execution_count": 102,
   "metadata": {},
   "outputs": [
    {
     "name": "stdout",
     "output_type": "stream",
     "text": [
      "{'Pos': 12950, 'Neg': 114706, 'TP': 12058, 'TN': 114568, 'FP': 138, 'FN': 892, 'Accuracy': 0.9919314407470076, 'Precision': 0.9886848146933421, 'Recall': 0.9311196911196912, 'desc': 'A=1'}\n"
     ]
    }
   ],
   "source": [
    "# from sklearn import linear_model\n",
    "# rdg1 = linear_model.RidgeClassifier(alpha=1.0)\n",
    "# rdg1.fit(X_train, y_train)\n",
    "\n",
    "# rdg1_performance_train = BinaryClassificationPerformance(rdg1.predict(X_train), y_train, 'A=1')\n",
    "# rdg1_performance_train.compute_measures()\n",
    "# print(rdg1_performance_train.performance_measures)"
   ]
  },
  {
   "cell_type": "code",
   "execution_count": 34,
   "metadata": {},
   "outputs": [
    {
     "name": "stdout",
     "output_type": "stream",
     "text": [
      "{'Pos': 12950, 'Neg': 114706, 'TP': 0, 'TN': 114706, 'FP': 0, 'FN': 12950, 'Accuracy': 0.8985554928871342, 'Precision': nan, 'Recall': 0.0, 'desc': 'rdf_train'}\n"
     ]
    },
    {
     "name": "stderr",
     "output_type": "stream",
     "text": [
      "/Users/yichanwang/Dropbox/2020Fall_Parsons/MachineLearning/Assignment1/my_measures.py:25: RuntimeWarning: invalid value encountered in long_scalars\n",
      "  self.performance_measures['Precision'] = self.performance_measures['TP'] / (self.performance_measures['TP'] + self.performance_measures['FP'])\n"
     ]
    }
   ],
   "source": [
    "# from sklearn.ensemble import RandomForestClassifier\n",
    "# rdf = RandomForestClassifier(max_depth=2, random_state=0)\n",
    "# rdf.fit(X_train, y_train)\n",
    "\n",
    "# rdf_performance_train = BinaryClassificationPerformance(rdf.predict(X_train), y_train, 'rdf_train')\n",
    "# rdf_performance_train.compute_measures()\n",
    "# print(rdf_performance_train.performance_measures)"
   ]
  },
  {
   "cell_type": "code",
   "execution_count": 35,
   "metadata": {},
   "outputs": [
    {
     "name": "stdout",
     "output_type": "stream",
     "text": [
      "{'Pos': 12950, 'Neg': 114706, 'TP': 12712, 'TN': 105786, 'FP': 8920, 'FN': 238, 'Accuracy': 0.9282603246224228, 'Precision': 0.5876479289940828, 'Recall': 0.9816216216216216, 'desc': 'nbs_train'}\n"
     ]
    }
   ],
   "source": [
    "# from sklearn.naive_bayes import MultinomialNB\n",
    "# nbs = MultinomialNB()\n",
    "# nbs.fit(X_train, y_train)\n",
    "\n",
    "# nbs_performance_train = BinaryClassificationPerformance(nbs.predict(X_train), y_train, 'nbs_train')\n",
    "# nbs_performance_train.compute_measures()\n",
    "# print(nbs_performance_train.performance_measures)"
   ]
  },
  {
   "cell_type": "code",
   "execution_count": 38,
   "metadata": {},
   "outputs": [
    {
     "data": {
      "image/png": "[encoded data removed]",
      "text/plain": [
       "<Figure size 432x288 with 1 Axes>"
      ]
     },
     "metadata": {
      "needs_background": "light"
     },
     "output_type": "display_data"
    }
   ],
   "source": [
    "# fits = [ols_performance_train, svm_performance_train, lgs_performance_train, nbs_performance_train, prc_performance_train, rdg_performance_train, rdf_performance_train]\n",
    "fits = [svc1_performance_train, svc2_performance_train, svc3_performance_train, svc4_performance_train, svc5_performance_train,svc6_performance_train, svc7_performance_train]\n",
    "\n",
    "for fit in fits:\n",
    "    plt.plot(fit.performance_measures['FP'] / fit.performance_measures['Neg'], \n",
    "             fit.performance_measures['TP'] / fit.performance_measures['Pos'], 'bo')\n",
    "    plt.text(fit.performance_measures['FP'] / fit.performance_measures['Neg'], \n",
    "             fit.performance_measures['TP'] / fit.performance_measures['Pos'], fit.desc)\n",
    "plt.axis([0, 0.0025, 0.9, 1])\n",
    "# plt.title('ROC plot: train set')\n",
    "plt.title('ROC plot: train set')\n",
    "plt.xlabel('False positive rate')\n",
    "plt.ylabel('True positive rate')\n",
    "plt.show()"
   ]
  },
  {
   "cell_type": "code",
   "execution_count": 37,
   "metadata": {},
   "outputs": [
    {
     "name": "stdout",
     "output_type": "stream",
     "text": [
      "{'Pos': 3275, 'Neg': 28640, 'TP': 1720, 'TN': 14325, 'FP': 14315, 'FN': 1555, 'Accuracy': 0.5027416575278082, 'Precision': 0.1072653570314936, 'Recall': 0.5251908396946565, 'desc': 'ols_test'}\n"
     ]
    }
   ],
   "source": [
    "# ols_performance_test = BinaryClassificationPerformance(ols.predict(X_test), y_test, 'ols_test')\n",
    "# ols_performance_test.compute_measures()\n",
    "# print(ols_performance_test.performance_measures)"
   ]
  },
  {
   "cell_type": "code",
   "execution_count": 38,
   "metadata": {},
   "outputs": [
    {
     "name": "stdout",
     "output_type": "stream",
     "text": [
      "{'Pos': 3275, 'Neg': 28640, 'TP': 2067, 'TN': 27258, 'FP': 1382, 'FN': 1208, 'Accuracy': 0.918846937176876, 'Precision': 0.5993041461293128, 'Recall': 0.6311450381679389, 'desc': 'svm_test'}\n"
     ]
    }
   ],
   "source": [
    "# svm_performance_test = BinaryClassificationPerformance(svm.predict(X_test), y_test, 'svm_test')\n",
    "# svm_performance_test.compute_measures()\n",
    "# print(svm_performance_test.performance_measures)"
   ]
  },
  {
   "cell_type": "code",
   "execution_count": 39,
   "metadata": {},
   "outputs": [
    {
     "name": "stdout",
     "output_type": "stream",
     "text": [
      "{'Pos': 3275, 'Neg': 28640, 'TP': 2072, 'TN': 27128, 'FP': 1512, 'FN': 1203, 'Accuracy': 0.9149302835657215, 'Precision': 0.578125, 'Recall': 0.6326717557251909, 'desc': 'lgs_test'}\n"
     ]
    }
   ],
   "source": [
    "# lgs_performance_test = BinaryClassificationPerformance(lgs.predict(X_test), y_test, 'lgs_test')\n",
    "# lgs_performance_test.compute_measures()\n",
    "# print(lgs_performance_test.performance_measures)"
   ]
  },
  {
   "cell_type": "code",
   "execution_count": 40,
   "metadata": {},
   "outputs": [
    {
     "name": "stdout",
     "output_type": "stream",
     "text": [
      "{'Pos': 3275, 'Neg': 28640, 'TP': 2424, 'TN': 20826, 'FP': 7814, 'FN': 851, 'Accuracy': 0.728497571674761, 'Precision': 0.2367649931627271, 'Recall': 0.7401526717557252, 'desc': 'nbs_test'}\n"
     ]
    }
   ],
   "source": [
    "# nbs_performance_test = BinaryClassificationPerformance(nbs.predict(X_test), y_test, 'nbs_test')\n",
    "# nbs_performance_test.compute_measures()\n",
    "# print(nbs_performance_test.performance_measures)"
   ]
  },
  {
   "cell_type": "code",
   "execution_count": 41,
   "metadata": {},
   "outputs": [
    {
     "name": "stdout",
     "output_type": "stream",
     "text": [
      "{'Pos': 3275, 'Neg': 28640, 'TP': 2057, 'TN': 27226, 'FP': 1414, 'FN': 1218, 'Accuracy': 0.9175309415635281, 'Precision': 0.5926246038605589, 'Recall': 0.6280916030534351, 'desc': 'prc_test'}\n"
     ]
    }
   ],
   "source": [
    "# prc_performance_test = BinaryClassificationPerformance(prc.predict(X_test), y_test, 'prc_test')\n",
    "# prc_performance_test.compute_measures()\n",
    "# print(prc_performance_test.performance_measures)"
   ]
  },
  {
   "cell_type": "code",
   "execution_count": 120,
   "metadata": {},
   "outputs": [
    {
     "name": "stdout",
     "output_type": "stream",
     "text": [
      "{'Pos': 3275, 'Neg': 28640, 'TP': 1838, 'TN': 26799, 'FP': 1841, 'FN': 1437, 'Accuracy': 0.897289675701081, 'Precision': 0.4995922805110084, 'Recall': 0.5612213740458015, 'desc': 'A=1'}\n"
     ]
    }
   ],
   "source": [
    "# rdg1_performance_test = BinaryClassificationPerformance(rdg1.predict(X_test), y_test, 'A=1')\n",
    "# rdg1_performance_test.compute_measures()\n",
    "# print(rdg1_performance_test.performance_measures)"
   ]
  },
  {
   "cell_type": "code",
   "execution_count": 28,
   "metadata": {},
   "outputs": [
    {
     "name": "stdout",
     "output_type": "stream",
     "text": [
      "{'Pos': 3275, 'Neg': 28640, 'TP': 2204, 'TN': 26485, 'FP': 2155, 'FN': 1071, 'Accuracy': 0.8989190036033213, 'Precision': 0.5056205551732048, 'Recall': 0.6729770992366412, 'desc': 'C=1'}\n"
     ]
    }
   ],
   "source": [
    "svc1_performance_test = BinaryClassificationPerformance(svc1.predict(X_test), y_test, 'C=1')\n",
    "svc1_performance_test.compute_measures()\n",
    "print(svc1_performance_test.performance_measures)"
   ]
  },
  {
   "cell_type": "code",
   "execution_count": 30,
   "metadata": {},
   "outputs": [
    {
     "name": "stdout",
     "output_type": "stream",
     "text": [
      "{'Pos': 3275, 'Neg': 28640, 'TP': 2190, 'TN': 27319, 'FP': 1321, 'FN': 1085, 'Accuracy': 0.9246122512924957, 'Precision': 0.6237539162631729, 'Recall': 0.6687022900763359, 'desc': 'C=0.01'}\n"
     ]
    }
   ],
   "source": [
    "svc2_performance_test = BinaryClassificationPerformance(svc2.predict(X_test), y_test, 'C=0.01')\n",
    "svc2_performance_test.compute_measures()\n",
    "print(svc2_performance_test.performance_measures)"
   ]
  },
  {
   "cell_type": "code",
   "execution_count": 31,
   "metadata": {},
   "outputs": [
    {
     "name": "stdout",
     "output_type": "stream",
     "text": [
      "{'Pos': 3275, 'Neg': 28640, 'TP': 2225, 'TN': 26297, 'FP': 2343, 'FN': 1050, 'Accuracy': 0.8936863543788187, 'Precision': 0.48708406304728546, 'Recall': 0.6793893129770993, 'desc': 'C=10'}\n"
     ]
    }
   ],
   "source": [
    "svc3_performance_test = BinaryClassificationPerformance(svc3.predict(X_test), y_test, 'C=10')\n",
    "svc3_performance_test.compute_measures()\n",
    "print(svc3_performance_test.performance_measures)"
   ]
  },
  {
   "cell_type": "code",
   "execution_count": 32,
   "metadata": {},
   "outputs": [
    {
     "name": "stdout",
     "output_type": "stream",
     "text": [
      "{'Pos': 3275, 'Neg': 28640, 'TP': 2230, 'TN': 26259, 'FP': 2381, 'FN': 1045, 'Accuracy': 0.8926523578254739, 'Precision': 0.4836261114725656, 'Recall': 0.6809160305343511, 'desc': 'C=100'}\n"
     ]
    }
   ],
   "source": [
    "svc4_performance_test = BinaryClassificationPerformance(svc4.predict(X_test), y_test, 'C=100')\n",
    "svc4_performance_test.compute_measures()\n",
    "print(svc4_performance_test.performance_measures)"
   ]
  },
  {
   "cell_type": "code",
   "execution_count": 33,
   "metadata": {},
   "outputs": [
    {
     "name": "stdout",
     "output_type": "stream",
     "text": [
      "{'Pos': 3275, 'Neg': 28640, 'TP': 2223, 'TN': 26253, 'FP': 2387, 'FN': 1052, 'Accuracy': 0.8922450258499138, 'Precision': 0.4822125813449024, 'Recall': 0.6787786259541985, 'desc': 'C=1000'}\n"
     ]
    }
   ],
   "source": [
    "svc5_performance_test = BinaryClassificationPerformance(svc5.predict(X_test), y_test, 'C=1000')\n",
    "svc5_performance_test.compute_measures()\n",
    "print(svc5_performance_test.performance_measures)"
   ]
  },
  {
   "cell_type": "code",
   "execution_count": 34,
   "metadata": {},
   "outputs": [
    {
     "name": "stdout",
     "output_type": "stream",
     "text": [
      "{'Pos': 3275, 'Neg': 28640, 'TP': 2210, 'TN': 26972, 'FP': 1668, 'FN': 1065, 'Accuracy': 0.9143662854457152, 'Precision': 0.5698813821557503, 'Recall': 0.6748091603053435, 'desc': 'C=0.1'}\n"
     ]
    }
   ],
   "source": [
    "svc6_performance_test = BinaryClassificationPerformance(svc6.predict(X_test), y_test, 'C=0.1')\n",
    "svc6_performance_test.compute_measures()\n",
    "print(svc6_performance_test.performance_measures)"
   ]
  },
  {
   "cell_type": "code",
   "execution_count": 40,
   "metadata": {},
   "outputs": [
    {
     "name": "stdout",
     "output_type": "stream",
     "text": [
      "{'Pos': 3275, 'Neg': 28640, 'TP': 2210, 'TN': 26972, 'FP': 1668, 'FN': 1065, 'Accuracy': 0.9143662854457152, 'Precision': 0.5698813821557503, 'Recall': 0.6748091603053435, 'desc': 'C=0.0001'}\n"
     ]
    }
   ],
   "source": [
    "svc7_performance_test = BinaryClassificationPerformance(svc6.predict(X_test), y_test, 'C=0.0001')\n",
    "svc7_performance_test.compute_measures()\n",
    "print(svc7_performance_test.performance_measures)"
   ]
  },
  {
   "cell_type": "code",
   "execution_count": 43,
   "metadata": {},
   "outputs": [
    {
     "name": "stdout",
     "output_type": "stream",
     "text": [
      "{'Pos': 3275, 'Neg': 28640, 'TP': 0, 'TN': 28640, 'FP': 0, 'FN': 3275, 'Accuracy': 0.8973836753877487, 'Precision': nan, 'Recall': 0.0, 'desc': 'rdf_test'}\n"
     ]
    },
    {
     "name": "stderr",
     "output_type": "stream",
     "text": [
      "/Users/yichanwang/Dropbox/2020Fall_Parsons/MachineLearning/Assignment1/my_measures.py:25: RuntimeWarning: invalid value encountered in long_scalars\n",
      "  self.performance_measures['Precision'] = self.performance_measures['TP'] / (self.performance_measures['TP'] + self.performance_measures['FP'])\n"
     ]
    }
   ],
   "source": [
    "# rdf_performance_test = BinaryClassificationPerformance(rdf.predict(X_test), y_test, 'rdf_test')\n",
    "# rdf_performance_test.compute_measures()\n",
    "# print(rdf_performance_test.performance_measures)"
   ]
  },
  {
   "cell_type": "code",
   "execution_count": 41,
   "metadata": {},
   "outputs": [
    {
     "data": {
      "image/png": "[encoded data removed]",
      "text/plain": [
       "<Figure size 432x288 with 1 Axes>"
      ]
     },
     "metadata": {
      "needs_background": "light"
     },
     "output_type": "display_data"
    }
   ],
   "source": [
    "# fits = [ols_performance_test, svm_performance_test, lgs_performance_test, nbs_performance_test, prc_performance_test, rdg_performance_test, rdf_performance_test]\n",
    "fits = [svc1_performance_test, svc2_performance_test, svc3_performance_test, svc4_performance_test, svc5_performance_test, svc6_performance_test, svc7_performance_test]\n",
    "\n",
    "for fit in fits:\n",
    "    plt.plot(fit.performance_measures['FP'] / fit.performance_measures['Neg'], \n",
    "             fit.performance_measures['TP'] / fit.performance_measures['Pos'], 'bo')\n",
    "    plt.text(fit.performance_measures['FP'] / fit.performance_measures['Neg'], \n",
    "             fit.performance_measures['TP'] / fit.performance_measures['Pos'], fit.desc)\n",
    "plt.axis([0, 0.1, 0, 1])\n",
    "# plt.title('ROC plot: test set')\n",
    "plt.title('ROC plot: test set')\n",
    "plt.xlabel('False positive rate')\n",
    "plt.ylabel('True positive rate')\n",
    "plt.show()"
   ]
  },
  {
   "cell_type": "code",
   "execution_count": null,
   "metadata": {},
   "outputs": [],
   "source": []
  },
  {
   "cell_type": "code",
   "execution_count": null,
   "metadata": {},
   "outputs": [],
   "source": []
  }
 ],
 "metadata": {
  "kernelspec": {
   "display_name": "Python 3",
   "language": "python",
   "name": "python3"
  },
  "language_info": {
   "codemirror_mode": {
    "name": "ipython",
    "version": 3
   },
   "file_extension": ".py",
   "mimetype": "text/x-python",
   "name": "python",
   "nbconvert_exporter": "python",
   "pygments_lexer": "ipython3",
   "version": "3.8.3"
  }
 },
 "nbformat": 4,
 "nbformat_minor": 4
}
